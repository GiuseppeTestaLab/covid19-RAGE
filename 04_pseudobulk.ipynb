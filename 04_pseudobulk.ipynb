{
 "cells": [
  {
   "cell_type": "markdown",
   "metadata": {},
   "source": [
    "# GEX data preprocessing"
   ]
  },
  {
   "cell_type": "markdown",
   "metadata": {},
   "source": [
    "## 1) Preliminaries"
   ]
  },
  {
   "cell_type": "code",
   "execution_count": 1,
   "metadata": {},
   "outputs": [],
   "source": [
    "import scanpy as sc\n",
    "import pandas as pd\n",
    "import scipy\n",
    "import os"
   ]
  },
  {
   "cell_type": "code",
   "execution_count": 2,
   "metadata": {},
   "outputs": [],
   "source": [
    "sc.settings.verbosity = 4"
   ]
  },
  {
   "cell_type": "code",
   "execution_count": 3,
   "metadata": {},
   "outputs": [],
   "source": [
    "data_folder = '../data'\n",
    "result_folder = '../Result/PseudoBulk'\n",
    "graph_folder = '../Graph'"
   ]
  },
  {
   "cell_type": "code",
   "execution_count": 4,
   "metadata": {},
   "outputs": [],
   "source": [
    "if not os.path.isdir(result_folder):\n",
    "    os.mkdir(result_folder)"
   ]
  },
  {
   "cell_type": "markdown",
   "metadata": {},
   "source": [
    "## 2) Read dataset"
   ]
  },
  {
   "cell_type": "code",
   "execution_count": 5,
   "metadata": {
    "collapsed": false,
    "jupyter": {
     "outputs_hidden": false
    },
    "pycharm": {
     "name": "#%%\n"
    }
   },
   "outputs": [
    {
     "data": {
      "text/plain": [
       "AnnData object with n_obs × n_vars = 143428 × 15935\n",
       "    obs: 'n_genes', 'sample_tag', 'patient', 'time', 'lab_id', 'DOB', 'sex', 'ht', 'VES', 'PCR', 'FIBRINOGENO', 'ANTITROMB', 'sCD40L', 'EGF', 'Eotaxin', 'FGF-2', 'FLT-3L', 'Fractalkine', 'G-CSF', 'GM-CSF', 'GROalpha', 'IFNalpha2', 'IFNgamma', 'IL-1alpha', 'IL-1beta', 'IL-1RA', 'IL-2', 'IL-3', 'IL-4', 'IL-5', 'IL-6', 'IL-7', 'IL-8', 'IL-9', 'IL-10', 'IL-12p40', 'IL-12p70', 'IL-13', 'IL-15', 'IL-17A', 'IL-17E/IL-25', 'IL-17F', 'IL-18', 'IL-22', 'IL-27', 'IP-10', 'MCP-1', 'MCP-3', 'M-CSF', 'MDC', 'MIG', 'MIP-1alpha', 'MIP-1beta', 'PDGF-AA', 'PDGF-AB/BB', 'TGFalpha', 'TNFalpha', 'TNFbeta', 'VEGF-A', 'IgA', 'IgG', 'days_from_symptoms_to_admission', 'severity', 'age', 'alcohol', 'smoke', 'fever', 'cough', 'pneumo', 'oxygen', 'comorbities', 'hypertension', 'batch_id', 'n_genes_by_counts', 'total_counts', 'total_counts_mt', 'pct_counts_mt', 'total_counts_rb', 'pct_counts_rb', 'total_counts_ab', 'pct_counts_ab', 'leiden', 'leiden_abseq_harmony', 'leiden_abseq_harmony_new', 'cell_type', 'cell_families', 'age_bin', 'severity_code', 'sex_code', 'time_code', 'severity_coarse'\n",
       "    var: 'mt', 'rb', 'ab', 'n_cells_by_counts', 'mean_counts', 'pct_dropout_by_counts', 'total_counts', 'n_cells', 'highly_variable', 'means', 'dispersions', 'dispersions_norm'\n",
       "    uns: 'batch_id_colors', 'hvg', 'leiden', 'leiden_colors', 'leiden_sizes', 'neighbors', 'paga', 'pca', 'umap'\n",
       "    obsm: 'X_diffmap_abseq', 'X_diffmap_genes', 'X_pca', 'X_pca_abseq_harmony', 'X_pca_harmony', 'X_umap', 'X_umap_abseq_harmony'\n",
       "    varm: 'PCs'\n",
       "    obsp: 'connectivities', 'distances'"
      ]
     },
     "execution_count": 5,
     "metadata": {},
     "output_type": "execute_result"
    }
   ],
   "source": [
    "dataset_name = \"complete-gex-dataset-annotated.h5ad\"\n",
    "adata = sc.read_h5ad(os.path.join(data_folder, dataset_name))\n",
    "adata"
   ]
  },
  {
   "cell_type": "code",
   "execution_count": 6,
   "metadata": {},
   "outputs": [
    {
     "data": {
      "text/plain": [
       "AnnData object with n_obs × n_vars = 143428 × 15935\n",
       "    obs: 'n_genes', 'sample_tag', 'patient', 'time', 'lab_id', 'DOB', 'sex', 'ht', 'VES', 'PCR', 'FIBRINOGENO', 'ANTITROMB', 'sCD40L', 'EGF', 'Eotaxin', 'FGF-2', 'FLT-3L', 'Fractalkine', 'G-CSF', 'GM-CSF', 'GROalpha', 'IFNalpha2', 'IFNgamma', 'IL-1alpha', 'IL-1beta', 'IL-1RA', 'IL-2', 'IL-3', 'IL-4', 'IL-5', 'IL-6', 'IL-7', 'IL-8', 'IL-9', 'IL-10', 'IL-12p40', 'IL-12p70', 'IL-13', 'IL-15', 'IL-17A', 'IL-17E/IL-25', 'IL-17F', 'IL-18', 'IL-22', 'IL-27', 'IP-10', 'MCP-1', 'MCP-3', 'M-CSF', 'MDC', 'MIG', 'MIP-1alpha', 'MIP-1beta', 'PDGF-AA', 'PDGF-AB/BB', 'TGFalpha', 'TNFalpha', 'TNFbeta', 'VEGF-A', 'IgA', 'IgG', 'days_from_symptoms_to_admission', 'severity', 'age', 'alcohol', 'smoke', 'fever', 'cough', 'pneumo', 'oxygen', 'comorbities', 'hypertension', 'batch_id', 'n_genes_by_counts', 'total_counts', 'total_counts_mt', 'pct_counts_mt', 'total_counts_rb', 'pct_counts_rb', 'total_counts_ab', 'pct_counts_ab', 'leiden', 'leiden_abseq_harmony', 'leiden_abseq_harmony_new', 'cell_type', 'cell_families', 'age_bin', 'severity_code', 'sex_code', 'time_code', 'severity_coarse'\n",
       "    var: 'mt', 'rb', 'ab', 'n_cells_by_counts', 'mean_counts', 'pct_dropout_by_counts', 'total_counts', 'n_cells'\n",
       "    uns: 'batch_id_colors', 'hvg', 'leiden', 'leiden_colors', 'leiden_sizes', 'neighbors', 'paga', 'pca', 'umap'\n",
       "    obsm: 'X_diffmap_abseq', 'X_diffmap_genes', 'X_pca', 'X_pca_abseq_harmony', 'X_pca_harmony', 'X_umap', 'X_umap_abseq_harmony'"
      ]
     },
     "execution_count": 6,
     "metadata": {},
     "output_type": "execute_result"
    }
   ],
   "source": [
    "adata_raw = adata.raw.to_adata()\n",
    "adata_raw"
   ]
  },
  {
   "cell_type": "code",
   "execution_count": 7,
   "metadata": {},
   "outputs": [],
   "source": [
    "adata.obs['PatientTime'] = adata.obs['patient'].astype('str') + '_' + adata.obs['time'].astype('str')\n",
    "adata_raw.obs['PatientTime'] = adata_raw.obs['patient'].astype('str') + '_' + adata_raw.obs['time'].astype('str')"
   ]
  },
  {
   "cell_type": "markdown",
   "metadata": {},
   "source": [
    "## 3) Pseudobulk data generation"
   ]
  },
  {
   "cell_type": "code",
   "execution_count": 8,
   "metadata": {},
   "outputs": [],
   "source": [
    "def adata_pseudobulk(adata):\n",
    "\n",
    "    if scipy.sparse.issparse(adata.X):\n",
    "        adata.X=adata.X.todense()\n",
    "\n",
    "    df_sc = pd.DataFrame(\n",
    "        index = adata.obs_names.tolist(),\n",
    "        data = adata.X,\n",
    "        columns=adata.var_names.tolist()\n",
    "        )\n",
    "   \n",
    "    df_sc = df_sc.sum(axis=0)\n",
    "\n",
    "    return(df_sc)"
   ]
  },
  {
   "cell_type": "code",
   "execution_count": 9,
   "metadata": {},
   "outputs": [],
   "source": [
    "total = pd.DataFrame()\n",
    "obs = pd.DataFrame()\n",
    "\n",
    "for sample in adata.obs['PatientTime'].unique():\n",
    "    for cluster in adata.obs['cell_families'].cat.categories:\n",
    "\n",
    "        dummy = adata[(adata.obs['PatientTime'] == sample) & (adata.obs['cell_families'] == cluster)].copy()\n",
    "        \n",
    "        df = adata_pseudobulk(dummy)\n",
    "        dfmeta=dummy.obs\n",
    "        total['{}_{}'.format(sample,cluster)] = df\n",
    "        dfmeta['numberOfCell'] = dummy.shape[0]\n",
    "        obs = obs.append(dfmeta.loc[:,['PatientTime', 'cell_families', 'patient', 'time', 'numberOfCell', 'severity']].iloc[0,:])\n",
    "\n",
    "total.to_csv('{}/total.csv'.format(result_folder), sep='\\t')\n",
    "obs.to_csv('{}/obs.csv'.format(result_folder), sep='\\t')"
   ]
  },
  {
   "cell_type": "code",
   "execution_count": 10,
   "metadata": {},
   "outputs": [],
   "source": [
    "total=pd.DataFrame()\n",
    "obs=pd.DataFrame()\n",
    "\n",
    "for sample in adata.obs['PatientTime'].unique():\n",
    "    for cluster in adata.obs['cell_families'].cat.categories:\n",
    "        \n",
    "        dummy = adata_raw[(adata_raw.obs['PatientTime'] == sample) & (adata_raw.obs['cell_families'] == cluster)].copy()\n",
    "        \n",
    "        df = adata_pseudobulk(dummy)\n",
    "        dfmeta=dummy.obs\n",
    "        total['{}_{}'.format(sample,cluster)] = df\n",
    "        dfmeta['numberOfCell'] = dummy.shape[0]\n",
    "        obs = obs.append(dfmeta.loc[:,['PatientTime', 'cell_families', 'patient', 'time', 'numberOfCell', 'severity']].iloc[0,:])\n",
    "\n",
    "total.to_csv('{}/totalRaw.csv'.format(result_folder), sep='\\t')\n",
    "obs.to_csv('{}/obsRaw.csv'.format(result_folder), sep='\\t')"
   ]
  },
  {
   "cell_type": "code",
   "execution_count": null,
   "metadata": {},
   "outputs": [],
   "source": []
  }
 ],
 "metadata": {
  "interpreter": {
   "hash": "916dbcbb3f70747c44a77c7bcd40155683ae19c65e1c03b4aa3499c5328201f1"
  },
  "kernelspec": {
   "display_name": "Python 3",
   "language": "python",
   "name": "python3"
  },
  "language_info": {
   "codemirror_mode": {
    "name": "ipython",
    "version": 3
   },
   "file_extension": ".py",
   "mimetype": "text/x-python",
   "name": "python",
   "nbconvert_exporter": "python",
   "pygments_lexer": "ipython3",
   "version": "3.8.5"
  }
 },
 "nbformat": 4,
 "nbformat_minor": 4
}
